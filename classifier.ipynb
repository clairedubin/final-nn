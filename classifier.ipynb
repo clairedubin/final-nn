{
 "cells": [
  {
   "cell_type": "markdown",
   "id": "2b50de0a",
   "metadata": {},
   "source": [
    "Yeast! Woohoo!"
   ]
  },
  {
   "cell_type": "code",
   "execution_count": 1,
   "id": "abdedf0d",
   "metadata": {},
   "outputs": [],
   "source": [
    "from collections import Counter\n",
    "import matplotlib.pyplot as plt\n",
    "import pandas as pd"
   ]
  },
  {
   "cell_type": "code",
   "execution_count": 2,
   "id": "061af8b7",
   "metadata": {},
   "outputs": [],
   "source": [
    "%load_ext autoreload\n",
    "%autoreload 2\n",
    "from nn.preprocess import *\n",
    "from nn.nn import NeuralNetwork\n",
    "from nn.io import *"
   ]
  },
  {
   "cell_type": "markdown",
   "id": "8ae0d572",
   "metadata": {},
   "source": [
    "### Read in data"
   ]
  },
  {
   "cell_type": "code",
   "execution_count": 3,
   "id": "ccfb2c53",
   "metadata": {},
   "outputs": [],
   "source": [
    "positive = read_text_file('data/rap1-lieb-positives.txt')\n",
    "negative = read_fasta_file('data/yeast-upstream-1k-negative.fa')"
   ]
  },
  {
   "cell_type": "code",
   "execution_count": 4,
   "id": "829d01d9",
   "metadata": {},
   "outputs": [
    {
     "data": {
      "text/plain": [
       "17"
      ]
     },
     "execution_count": 4,
     "metadata": {},
     "output_type": "execute_result"
    }
   ],
   "source": [
    "len(positive[0])"
   ]
  },
  {
   "cell_type": "code",
   "execution_count": 5,
   "id": "d24450c6",
   "metadata": {},
   "outputs": [],
   "source": [
    "#making negative sequences the same length as positive seqs: \n",
    "#randomly selecting 17 bp from each negative seq\n",
    "new_length = 17\n",
    "np.random.seed(13)\n",
    "negative_shortened = []\n",
    "\n",
    "for seq in negative:\n",
    "    new_start = np.random.randint(0, len(seq)-new_length)\n",
    "    negative_shortened += [seq[new_start:new_start+new_length]]\n"
   ]
  },
  {
   "cell_type": "code",
   "execution_count": 6,
   "id": "f488c1d5",
   "metadata": {},
   "outputs": [
    {
     "data": {
      "text/plain": [
       "(137, 3163)"
      ]
     },
     "execution_count": 6,
     "metadata": {},
     "output_type": "execute_result"
    }
   ],
   "source": [
    "len(positive), len(negative_shortened)"
   ]
  },
  {
   "cell_type": "markdown",
   "id": "49c643aa",
   "metadata": {},
   "source": [
    "### Sample sequences\n",
    "\n",
    "Randomly samples the positive samples with replacement to match number of negative sequences."
   ]
  },
  {
   "cell_type": "code",
   "execution_count": 7,
   "id": "a8de7e8a",
   "metadata": {},
   "outputs": [],
   "source": [
    "all_seqs = positive+negative_shortened\n",
    "\n",
    "#1 = positive, 0 = negative\n",
    "all_labels = [1]*len(positive)+[0]*len(negative_shortened)\n",
    "\n",
    "sampled_seqs, sampled_labels = sample_seqs(all_seqs, all_labels)"
   ]
  },
  {
   "cell_type": "code",
   "execution_count": 8,
   "id": "724855f2",
   "metadata": {},
   "outputs": [
    {
     "data": {
      "text/plain": [
       "Counter({0: 3163, 1: 3163})"
      ]
     },
     "execution_count": 8,
     "metadata": {},
     "output_type": "execute_result"
    }
   ],
   "source": [
    "Counter(sampled_labels)"
   ]
  },
  {
   "cell_type": "markdown",
   "id": "c952325c",
   "metadata": {},
   "source": [
    "### One hot encode sequences"
   ]
  },
  {
   "cell_type": "code",
   "execution_count": 9,
   "id": "bfcda83e",
   "metadata": {},
   "outputs": [],
   "source": [
    "seqs_one_hot = one_hot_encode_seqs(sampled_seqs)"
   ]
  },
  {
   "cell_type": "code",
   "execution_count": 10,
   "id": "dbb55727",
   "metadata": {},
   "outputs": [
    {
     "data": {
      "text/plain": [
       "array([0., 0., 0., 1., 1., 0., 0., 0., 1., 0., 0., 0., 1., 0., 0., 0., 1.,\n",
       "       0., 0., 0., 0., 1., 0., 0., 1., 0., 0., 0., 1., 0., 0., 0., 1., 0.,\n",
       "       0., 0., 1., 0., 0., 0., 0., 0., 1., 0., 1., 0., 0., 0., 1., 0., 0.,\n",
       "       0., 0., 0., 1., 0., 0., 1., 0., 0., 0., 1., 0., 0., 1., 0., 0., 0.])"
      ]
     },
     "execution_count": 10,
     "metadata": {},
     "output_type": "execute_result"
    }
   ],
   "source": [
    "seqs_one_hot[0]"
   ]
  },
  {
   "cell_type": "markdown",
   "id": "884aa089",
   "metadata": {},
   "source": [
    "### Split data into training and validation sets\n",
    "\n",
    "80% training, 20% validation"
   ]
  },
  {
   "cell_type": "code",
   "execution_count": 11,
   "id": "02f15248",
   "metadata": {},
   "outputs": [
    {
     "data": {
      "text/plain": [
       "((5061, 68), (5061,), (1265, 68), (1265,))"
      ]
     },
     "execution_count": 11,
     "metadata": {},
     "output_type": "execute_result"
    }
   ],
   "source": [
    "#shuffle\n",
    "np.random.seed(1)\n",
    "idxs = np.arange(len(seqs_one_hot))\n",
    "np.random.shuffle(idxs)\n",
    "seqs_shuffled = np.array(seqs_one_hot,dtype=object)[idxs]\n",
    "labels_shuffled = np.array(sampled_labels,dtype=object)[idxs]\n",
    "\n",
    "#split\n",
    "split_on = round(len(seqs_one_hot)*.8)\n",
    "\n",
    "seqs_train = seqs_shuffled[:split_on]\n",
    "labels_train = labels_shuffled[:split_on]\n",
    "\n",
    "seqs_val = seqs_shuffled[split_on:]\n",
    "labels_val = labels_shuffled[split_on:]\n",
    "\n",
    "seqs_train.shape, labels_train.shape, seqs_val.shape, labels_val.shape"
   ]
  },
  {
   "cell_type": "markdown",
   "id": "381f7556",
   "metadata": {},
   "source": [
    "### Train NN:\n",
    "\n",
    "-I chose sigmoid as the activation function because this is a classification problem, and my inputs/outputs are binary.\n",
    "\n",
    "-I chose binary cross entropy as the loss function because we want a probability distribution (probability of positive or negative) as the output.\n",
    "\n",
    "-I didn't find that the output size of the first layer mattered much (but sizes larger than 64 made the model very slow). The second layer output is a 1D array because the labels are 1D.\n",
    "\n",
    "-I tuned the model (see below) and chose the parameters that gave the best validation loss. The learning rate of 0.1 seemed to have the strongest effect on the outcome. The loss decays pretty rapidly so I definitely could have similar results with a lower number of epochs than in the best model.\n",
    "\n",
    "-I tested smaller values for epochs than the autoencoder because the sigmoid activation makes the model slower overall. "
   ]
  },
  {
   "cell_type": "code",
   "execution_count": 56,
   "id": "3ec4b6cc",
   "metadata": {},
   "outputs": [],
   "source": [
    "hyperparam_tune = []\n",
    "\n",
    "for lr in [0.01, 0.001, 0.0001]:\n",
    "    for epoch in [10, 25, 50]:\n",
    "        for batch_size in [100, 500, 1000]:\n",
    "\n",
    "            model = NeuralNetwork(nn_arch =  [{'input_dim': 68, 'output_dim': 32, 'activation': 'sigmoid'},\n",
    "                                  {'input_dim': 32, 'output_dim': 1, 'activation': 'sigmoid'}],\n",
    "                          lr = lr, seed = 1, batch_size = batch_size, \n",
    "                          epochs = epoch, loss_function='mse')\n",
    "\n",
    "            per_epoch_loss_train, per_epoch_loss_val = model.fit(seqs_train, labels_train, seqs_val, labels_val)\n",
    "\n",
    "            final_train_loss = min(per_epoch_loss_train)\n",
    "            final_val_loss = min(per_epoch_loss_val)\n",
    "\n",
    "            hyperparam_tune += [[lr, epoch, batch_size, final_train_loss, final_val_loss]]\n"
   ]
  },
  {
   "cell_type": "code",
   "execution_count": 57,
   "id": "a1b3ac1b",
   "metadata": {},
   "outputs": [],
   "source": [
    "df = pd.DataFrame(hyperparam_tune)\n",
    "df.columns = ['LR', 'num_epochs', 'batch_size', 'train_MSE', 'val_MSE']"
   ]
  },
  {
   "cell_type": "code",
   "execution_count": 58,
   "id": "b5e2959e",
   "metadata": {},
   "outputs": [
    {
     "data": {
      "text/html": [
       "<div>\n",
       "<style scoped>\n",
       "    .dataframe tbody tr th:only-of-type {\n",
       "        vertical-align: middle;\n",
       "    }\n",
       "\n",
       "    .dataframe tbody tr th {\n",
       "        vertical-align: top;\n",
       "    }\n",
       "\n",
       "    .dataframe thead th {\n",
       "        text-align: right;\n",
       "    }\n",
       "</style>\n",
       "<table border=\"1\" class=\"dataframe\">\n",
       "  <thead>\n",
       "    <tr style=\"text-align: right;\">\n",
       "      <th></th>\n",
       "      <th>LR</th>\n",
       "      <th>num_epochs</th>\n",
       "      <th>batch_size</th>\n",
       "      <th>train_MSE</th>\n",
       "      <th>val_MSE</th>\n",
       "    </tr>\n",
       "  </thead>\n",
       "  <tbody>\n",
       "    <tr>\n",
       "      <th>6</th>\n",
       "      <td>0.01</td>\n",
       "      <td>50</td>\n",
       "      <td>100</td>\n",
       "      <td>0.085526</td>\n",
       "      <td>0.083373</td>\n",
       "    </tr>\n",
       "    <tr>\n",
       "      <th>3</th>\n",
       "      <td>0.01</td>\n",
       "      <td>25</td>\n",
       "      <td>100</td>\n",
       "      <td>0.173256</td>\n",
       "      <td>0.170240</td>\n",
       "    </tr>\n",
       "    <tr>\n",
       "      <th>7</th>\n",
       "      <td>0.01</td>\n",
       "      <td>50</td>\n",
       "      <td>500</td>\n",
       "      <td>0.217373</td>\n",
       "      <td>0.216204</td>\n",
       "    </tr>\n",
       "    <tr>\n",
       "      <th>0</th>\n",
       "      <td>0.01</td>\n",
       "      <td>10</td>\n",
       "      <td>100</td>\n",
       "      <td>0.220362</td>\n",
       "      <td>0.218216</td>\n",
       "    </tr>\n",
       "    <tr>\n",
       "      <th>8</th>\n",
       "      <td>0.01</td>\n",
       "      <td>50</td>\n",
       "      <td>1000</td>\n",
       "      <td>0.228983</td>\n",
       "      <td>0.228040</td>\n",
       "    </tr>\n",
       "  </tbody>\n",
       "</table>\n",
       "</div>"
      ],
      "text/plain": [
       "     LR  num_epochs  batch_size  train_MSE   val_MSE\n",
       "6  0.01          50         100   0.085526  0.083373\n",
       "3  0.01          25         100   0.173256  0.170240\n",
       "7  0.01          50         500   0.217373  0.216204\n",
       "0  0.01          10         100   0.220362  0.218216\n",
       "8  0.01          50        1000   0.228983  0.228040"
      ]
     },
     "execution_count": 58,
     "metadata": {},
     "output_type": "execute_result"
    }
   ],
   "source": [
    "df.sort_values('val_MSE').head(5)"
   ]
  },
  {
   "cell_type": "markdown",
   "id": "e6033af8",
   "metadata": {},
   "source": [
    "### Plotting training and validation loss for best model:"
   ]
  },
  {
   "cell_type": "code",
   "execution_count": 59,
   "id": "0897a358",
   "metadata": {},
   "outputs": [],
   "source": [
    "def plot_loss(per_epoch_loss_train, per_epoch_loss_val):\n",
    "    \n",
    "    plt.plot(per_epoch_loss_train, label='training')\n",
    "    plt.plot(per_epoch_loss_val, label='validation')\n",
    "    plt.xlabel('Epoch')\n",
    "    plt.ylabel('Loss (BCE)')\n",
    "    plt.legend()\n",
    "    \n",
    "    plt.show()"
   ]
  },
  {
   "cell_type": "code",
   "execution_count": 60,
   "id": "7fa15a0e",
   "metadata": {},
   "outputs": [],
   "source": [
    "lr = 0.01\n",
    "batch_size = 100\n",
    "epoch = 50\n",
    "\n",
    "\n",
    "model = NeuralNetwork(nn_arch =  [{'input_dim': 68, 'output_dim': 32, 'activation': 'sigmoid'},\n",
    "                                  {'input_dim': 32, 'output_dim': 1, 'activation': 'sigmoid'}],\n",
    "                          lr = lr, seed = 13, batch_size = batch_size, \n",
    "                          epochs = epoch, loss_function='mse')\n",
    "\n",
    "per_epoch_loss_train, per_epoch_loss_val =  model.fit(seqs_train, labels_train, seqs_val, labels_val)"
   ]
  },
  {
   "cell_type": "code",
   "execution_count": 61,
   "id": "3b9bc7d5",
   "metadata": {},
   "outputs": [
    {
     "data": {
      "image/png": "[encoded data removed]",
      "text/plain": [
       "<Figure size 640x480 with 1 Axes>"
      ]
     },
     "metadata": {},
     "output_type": "display_data"
    }
   ],
   "source": [
    "plot_loss(per_epoch_loss_train, per_epoch_loss_val)"
   ]
  },
  {
   "cell_type": "markdown",
   "id": "35af4302",
   "metadata": {},
   "source": [
    "### Accuracy of classifier on validation data"
   ]
  },
  {
   "cell_type": "code",
   "execution_count": 62,
   "id": "e6f75267",
   "metadata": {},
   "outputs": [],
   "source": [
    "pred = model.predict(seqs_val)"
   ]
  },
  {
   "cell_type": "code",
   "execution_count": 63,
   "id": "7dd76d3d",
   "metadata": {},
   "outputs": [],
   "source": [
    "#convert predictions to binary values like the labels\n",
    "pred_binary = np.where(pred.squeeze() < .5, 0, 1)"
   ]
  },
  {
   "cell_type": "code",
   "execution_count": 64,
   "id": "d47306cc",
   "metadata": {},
   "outputs": [
    {
     "data": {
      "text/plain": [
       "0.9873517786561264"
      ]
     },
     "execution_count": 64,
     "metadata": {},
     "output_type": "execute_result"
    }
   ],
   "source": [
    "#accuracy\n",
    "len(np.where(labels_val == pred_binary)[0])/len(labels_val)"
   ]
  },
  {
   "cell_type": "code",
   "execution_count": 65,
   "id": "d4170ba1",
   "metadata": {},
   "outputs": [
    {
     "name": "stdout",
     "output_type": "stream",
     "text": [
      "[0 1 1 1 0 1 0 1 0 0 0 0 1 1 1 0 1 0 1 0]\n",
      "[0 1 1 1 0 1 0 1 0 0 0 0 1 1 1 0 1 0 1 0]\n"
     ]
    }
   ],
   "source": [
    "#just checking\n",
    "print(pred_binary[0:20])\n",
    "print(labels_val[0:20])"
   ]
  },
  {
   "cell_type": "code",
   "execution_count": null,
   "id": "1bce6ac3",
   "metadata": {},
   "outputs": [],
   "source": []
  }
 ],
 "metadata": {
  "kernelspec": {
   "display_name": "Python [conda env:root] *",
   "language": "python",
   "name": "conda-root-py"
  },
  "language_info": {
   "codemirror_mode": {
    "name": "ipython",
    "version": 3
   },
   "file_extension": ".py",
   "mimetype": "text/x-python",
   "name": "python",
   "nbconvert_exporter": "python",
   "pygments_lexer": "ipython3",
   "version": "3.9.13"
  }
 },
 "nbformat": 4,
 "nbformat_minor": 5
}
