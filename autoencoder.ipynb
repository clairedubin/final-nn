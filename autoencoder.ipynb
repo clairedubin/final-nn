{
 "cells": [
  {
   "cell_type": "code",
   "execution_count": 1,
   "id": "03089eaa",
   "metadata": {},
   "outputs": [],
   "source": [
    "import sklearn\n",
    "from sklearn.datasets import load_digits\n",
    "\n",
    "import numpy as np\n",
    "import matplotlib.pyplot as plt\n",
    "import pandas as pd"
   ]
  },
  {
   "cell_type": "code",
   "execution_count": 2,
   "id": "38555bb9",
   "metadata": {},
   "outputs": [],
   "source": [
    "%load_ext autoreload\n",
    "%autoreload 2\n",
    "from nn.nn import NeuralNetwork"
   ]
  },
  {
   "cell_type": "code",
   "execution_count": 3,
   "id": "ee331399",
   "metadata": {},
   "outputs": [],
   "source": [
    "X, y = load_digits(return_X_y=True)"
   ]
  },
  {
   "cell_type": "code",
   "execution_count": 4,
   "id": "47fcba36",
   "metadata": {},
   "outputs": [
    {
     "data": {
      "text/plain": [
       "(1797, 64)"
      ]
     },
     "execution_count": 4,
     "metadata": {},
     "output_type": "execute_result"
    }
   ],
   "source": [
    "X.shape"
   ]
  },
  {
   "cell_type": "markdown",
   "id": "0d28cc75",
   "metadata": {},
   "source": [
    "### Split into train and validation data"
   ]
  },
  {
   "cell_type": "code",
   "execution_count": 5,
   "id": "a3e2151d",
   "metadata": {},
   "outputs": [
    {
     "data": {
      "text/plain": [
       "((1258, 64), (539, 64))"
      ]
     },
     "execution_count": 5,
     "metadata": {},
     "output_type": "execute_result"
    }
   ],
   "source": [
    "#doing a roughly 70/30 split\n",
    "split_on = round(.7*X.shape[0])\n",
    "\n",
    "#shuffle rows\n",
    "np.random.seed(7)\n",
    "row_idxs = np.arange(X.shape[0])\n",
    "np.random.shuffle(row_idxs)\n",
    "X_shuffled = X[row_idxs]\n",
    "\n",
    "#split\n",
    "X_train = X_shuffled[:split_on]\n",
    "X_val = X_shuffled[split_on:]\n",
    "\n",
    "X_train.shape, X_val.shape"
   ]
  },
  {
   "cell_type": "code",
   "execution_count": 73,
   "id": "3bad0780",
   "metadata": {},
   "outputs": [],
   "source": [
    "#plotting function\n",
    "def plot_loss(per_epoch_loss_train, per_epoch_loss_val):\n",
    "    \n",
    "    plt.plot(per_epoch_loss_train, label='training')\n",
    "    plt.plot(per_epoch_loss_val, label='validation')\n",
    "    plt.xlabel('Epoch')\n",
    "    plt.ylabel('Loss (MSE)')\n",
    "    plt.legend()\n",
    "    \n",
    "    plt.show()"
   ]
  },
  {
   "cell_type": "markdown",
   "id": "2f3d5d57",
   "metadata": {},
   "source": [
    "### Make initial model (64x16x64)\n",
    "\n",
    "I chose ReLu as my activation function for both layers because it partially behaves like a linear function and this problem is essentially linear regression. Also I haven't normalized the values in the dataset so I shouldn't use sigmoid or BCE unless I were to do that.\n",
    "\n",
    "I chose MSE as the loss function because it's not a binary classification problem, it's linear."
   ]
  },
  {
   "cell_type": "code",
   "execution_count": 100,
   "id": "f2678985",
   "metadata": {},
   "outputs": [],
   "source": [
    "model = NeuralNetwork(nn_arch =  [{'input_dim': 64, 'output_dim': 16, 'activation': 'relu'},\n",
    "                                  {'input_dim': 16, 'output_dim': 64, 'activation': 'relu'}],\n",
    "                          lr = 0.0001, seed = 7, batch_size = 100, \n",
    "                          epochs = 100, loss_function='mse')\n",
    "\n",
    "per_epoch_loss_train, per_epoch_loss_val = model.fit(X_train, X_train, X_val, X_val)"
   ]
  },
  {
   "cell_type": "code",
   "execution_count": 101,
   "id": "6c7c6c91",
   "metadata": {},
   "outputs": [
    {
     "data": {
      "image/png": "[encoded data removed]",
      "text/plain": [
       "<Figure size 640x480 with 1 Axes>"
      ]
     },
     "metadata": {},
     "output_type": "display_data"
    }
   ],
   "source": [
    "plot_loss(per_epoch_loss_train, per_epoch_loss_val)"
   ]
  },
  {
   "cell_type": "markdown",
   "id": "9471a257",
   "metadata": {},
   "source": [
    "### Tune hyperparameters"
   ]
  },
  {
   "cell_type": "code",
   "execution_count": 94,
   "id": "1382f3df",
   "metadata": {},
   "outputs": [],
   "source": [
    "hyperparam_tune = []\n",
    "for activation1 in ['sigmoid', 'relu']:\n",
    "    for activation2 in ['sigmoid', 'relu']:\n",
    "        for lr in [0.001, 0.0001, 0.00001]:\n",
    "            for epoch in [10, 100, 1000]:\n",
    "                for batch_size in [50, 250, 500]:\n",
    "\n",
    "                    model = NeuralNetwork(nn_arch =  [{'input_dim': 64, 'output_dim': 16, 'activation': activation1},\n",
    "                                          {'input_dim': 16, 'output_dim': 64, 'activation': activation2}],\n",
    "                                  lr = lr, seed = 1, batch_size = batch_size, \n",
    "                                  epochs = epoch, loss_function='mse')\n",
    "\n",
    "                    per_epoch_loss_train, per_epoch_loss_val = model.fit(X_train, X_train, X_val, X_val)\n",
    "\n",
    "                    final_train_loss = min(per_epoch_loss_train)\n",
    "                    final_val_loss = min(per_epoch_loss_val)\n",
    "\n",
    "                    hyperparam_tune += [[activation1, activation2, lr, epoch, batch_size, final_train_loss, final_val_loss]]\n"
   ]
  },
  {
   "cell_type": "code",
   "execution_count": 102,
   "id": "2f0eedf6",
   "metadata": {},
   "outputs": [],
   "source": [
    "df = pd.DataFrame(hyperparam_tune)\n",
    "df.columns = ['activation1','activation2','LR', 'num_epochs', 'batch_size', 'train_MSE', 'val_MSE']"
   ]
  },
  {
   "cell_type": "code",
   "execution_count": 103,
   "id": "1bb81b06",
   "metadata": {},
   "outputs": [
    {
     "data": {
      "text/html": [
       "<div>\n",
       "<style scoped>\n",
       "    .dataframe tbody tr th:only-of-type {\n",
       "        vertical-align: middle;\n",
       "    }\n",
       "\n",
       "    .dataframe tbody tr th {\n",
       "        vertical-align: top;\n",
       "    }\n",
       "\n",
       "    .dataframe thead th {\n",
       "        text-align: right;\n",
       "    }\n",
       "</style>\n",
       "<table border=\"1\" class=\"dataframe\">\n",
       "  <thead>\n",
       "    <tr style=\"text-align: right;\">\n",
       "      <th></th>\n",
       "      <th>activation1</th>\n",
       "      <th>activation2</th>\n",
       "      <th>LR</th>\n",
       "      <th>num_epochs</th>\n",
       "      <th>batch_size</th>\n",
       "      <th>train_MSE</th>\n",
       "      <th>val_MSE</th>\n",
       "    </tr>\n",
       "  </thead>\n",
       "  <tbody>\n",
       "    <tr>\n",
       "      <th>96</th>\n",
       "      <td>relu</td>\n",
       "      <td>relu</td>\n",
       "      <td>0.0001</td>\n",
       "      <td>1000</td>\n",
       "      <td>50</td>\n",
       "      <td>6.332532</td>\n",
       "      <td>6.474270</td>\n",
       "    </tr>\n",
       "    <tr>\n",
       "      <th>33</th>\n",
       "      <td>sigmoid</td>\n",
       "      <td>relu</td>\n",
       "      <td>0.0010</td>\n",
       "      <td>1000</td>\n",
       "      <td>50</td>\n",
       "      <td>6.698263</td>\n",
       "      <td>7.190326</td>\n",
       "    </tr>\n",
       "    <tr>\n",
       "      <th>34</th>\n",
       "      <td>sigmoid</td>\n",
       "      <td>relu</td>\n",
       "      <td>0.0010</td>\n",
       "      <td>1000</td>\n",
       "      <td>250</td>\n",
       "      <td>7.869779</td>\n",
       "      <td>8.485898</td>\n",
       "    </tr>\n",
       "    <tr>\n",
       "      <th>97</th>\n",
       "      <td>relu</td>\n",
       "      <td>relu</td>\n",
       "      <td>0.0001</td>\n",
       "      <td>1000</td>\n",
       "      <td>250</td>\n",
       "      <td>9.172078</td>\n",
       "      <td>9.432515</td>\n",
       "    </tr>\n",
       "    <tr>\n",
       "      <th>98</th>\n",
       "      <td>relu</td>\n",
       "      <td>relu</td>\n",
       "      <td>0.0001</td>\n",
       "      <td>1000</td>\n",
       "      <td>500</td>\n",
       "      <td>9.248642</td>\n",
       "      <td>9.483405</td>\n",
       "    </tr>\n",
       "  </tbody>\n",
       "</table>\n",
       "</div>"
      ],
      "text/plain": [
       "   activation1 activation2      LR  num_epochs  batch_size  train_MSE  \\\n",
       "96        relu        relu  0.0001        1000          50   6.332532   \n",
       "33     sigmoid        relu  0.0010        1000          50   6.698263   \n",
       "34     sigmoid        relu  0.0010        1000         250   7.869779   \n",
       "97        relu        relu  0.0001        1000         250   9.172078   \n",
       "98        relu        relu  0.0001        1000         500   9.248642   \n",
       "\n",
       "     val_MSE  \n",
       "96  6.474270  \n",
       "33  7.190326  \n",
       "34  8.485898  \n",
       "97  9.432515  \n",
       "98  9.483405  "
      ]
     },
     "execution_count": 103,
     "metadata": {},
     "output_type": "execute_result"
    }
   ],
   "source": [
    "df.sort_values('val_MSE').head(5)"
   ]
  },
  {
   "cell_type": "markdown",
   "id": "26578fe6",
   "metadata": {},
   "source": [
    "### Best model (lowest validation error):\n",
    "\n",
    "Found by playing with combinations of hyperparameters"
   ]
  },
  {
   "cell_type": "code",
   "execution_count": 105,
   "id": "a63cb23f",
   "metadata": {},
   "outputs": [],
   "source": [
    "epochs = 1000\n",
    "batch_size = 50\n",
    "lr = 0.0001\n",
    "model = NeuralNetwork(nn_arch =  [{'input_dim': 64, 'output_dim': 16, 'activation': 'relu'},\n",
    "                                  {'input_dim': 16, 'output_dim': 64, 'activation': 'relu'}],\n",
    "                          lr = lr, seed = 1, batch_size = batch_size, \n",
    "                          epochs = epochs, loss_function='mse')\n",
    "\n",
    "per_epoch_loss_train, per_epoch_loss_val = model.fit(X_train, X_train, X_val, X_val)\n",
    "            "
   ]
  },
  {
   "cell_type": "code",
   "execution_count": 106,
   "id": "cd3834ca",
   "metadata": {},
   "outputs": [
    {
     "data": {
      "image/png": "[encoded data removed]",
      "text/plain": [
       "<Figure size 640x480 with 1 Axes>"
      ]
     },
     "metadata": {},
     "output_type": "display_data"
    }
   ],
   "source": [
    "plot_loss(per_epoch_loss_train, per_epoch_loss_val)"
   ]
  },
  {
   "cell_type": "markdown",
   "id": "3d9cc4cd",
   "metadata": {},
   "source": [
    "**Reconstruction error is the MSE of the validation set:**"
   ]
  },
  {
   "cell_type": "code",
   "execution_count": 136,
   "id": "b839d3e0",
   "metadata": {},
   "outputs": [
    {
     "data": {
      "text/plain": [
       "6.474270188031276"
      ]
     },
     "execution_count": 136,
     "metadata": {},
     "output_type": "execute_result"
    }
   ],
   "source": [
    "min(per_epoch_loss_val)"
   ]
  },
  {
   "cell_type": "markdown",
   "id": "ec8d996d",
   "metadata": {},
   "source": [
    "### Reconstruction examples"
   ]
  },
  {
   "cell_type": "code",
   "execution_count": 135,
   "id": "0de533ad",
   "metadata": {
    "scrolled": false
   },
   "outputs": [
    {
     "data": {
      "image/png": "[encoded data removed]",
      "text/plain": [
       "<Figure size 400x1000 with 10 Axes>"
      ]
     },
     "metadata": {},
     "output_type": "display_data"
    }
   ],
   "source": [
    "fig, ax = plt.subplots(5,2, figsize=(4,10))\n",
    "ax[0,0].set_title('input image')\n",
    "ax[0,1].set_title('reconstructed image')\n",
    "\n",
    "for i,digit in enumerate(X_val[:5]):\n",
    "    ax[i,0].imshow(digit.reshape((8,8)), cmap=pyplot.get_cmap('gray'))\n",
    "    ax[i,1].imshow(model.predict(digit).reshape((8,8)), cmap=pyplot.get_cmap('gray'))\n",
    "\n",
    "plt.show()"
   ]
  },
  {
   "cell_type": "code",
   "execution_count": null,
   "id": "bef03dd8",
   "metadata": {},
   "outputs": [],
   "source": []
  }
 ],
 "metadata": {
  "kernelspec": {
   "display_name": "Python [conda env:root] *",
   "language": "python",
   "name": "conda-root-py"
  },
  "language_info": {
   "codemirror_mode": {
    "name": "ipython",
    "version": 3
   },
   "file_extension": ".py",
   "mimetype": "text/x-python",
   "name": "python",
   "nbconvert_exporter": "python",
   "pygments_lexer": "ipython3",
   "version": "3.9.13"
  }
 },
 "nbformat": 4,
 "nbformat_minor": 5
}
